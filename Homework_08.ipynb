{
 "cells": [
  {
   "cell_type": "markdown",
   "metadata": {},
   "source": [
    "## Homework 08: Classification\n",
    "\n",
    "**Due:** Midnight on July 6th, BUT no late points will be charged if you get it in by the last late deadline. \n",
    "\n",
    "### Overview\n",
    "\n",
    "In this final homework before starting our course project, we will introduce the essential machine learning paradigm of **classification**. We will work with the **UCI Adult** dataset. This is a binary classification task.\n",
    "\n",
    "As we’ve discussed in this week’s lessons, the classification workflow is similar to what we’ve done for regression, with a few key differences:\n",
    "- We use `StratifiedKFold` instead of plain `KFold` so that every fold keeps the original class proportions.\n",
    "- We use classification metrics (e.g., accuracy, precision, recall, F1-score for binary classification) instead of regression metrics.\n",
    "- We could explore misclassified instances through a confusion matrix (though we will not do that in this homework).\n",
    "\n",
    "For this assignment, you’ll build a gradient boosting classification using `HistGradientBoostingClassifier` (HGBC) and explore ways of tuning the hyperparameters, including using the technique of early stopping, which basically avoiding have to tune the number of estimators (called `max_iter` in HGBC). \n",
    "\n",
    "HGBC has many advantages, which we explain below. \n",
    "\n",
    "\n",
    "### Grading\n",
    "\n",
    "There are 7 graded problems, each worth 7 points, and you get 1 point free if you complete the assignment. "
   ]
  },
  {
   "cell_type": "code",
   "execution_count": 1,
   "metadata": {},
   "outputs": [
    {
     "name": "stdout",
     "output_type": "stream",
     "text": [
      "Requirement already satisfied: tqdm in /usr/local/python/3.12.1/lib/python3.12/site-packages (4.67.1)\n",
      "Requirement already satisfied: optuna in /usr/local/python/3.12.1/lib/python3.12/site-packages (4.4.0)\n",
      "Requirement already satisfied: alembic>=1.5.0 in /usr/local/python/3.12.1/lib/python3.12/site-packages (from optuna) (1.16.2)\n",
      "Requirement already satisfied: colorlog in /usr/local/python/3.12.1/lib/python3.12/site-packages (from optuna) (6.9.0)\n",
      "Requirement already satisfied: numpy in /home/codespace/.local/lib/python3.12/site-packages (from optuna) (2.2.6)\n",
      "Requirement already satisfied: packaging>=20.0 in /home/codespace/.local/lib/python3.12/site-packages (from optuna) (25.0)\n",
      "Requirement already satisfied: sqlalchemy>=1.4.2 in /usr/local/python/3.12.1/lib/python3.12/site-packages (from optuna) (2.0.41)\n",
      "Requirement already satisfied: tqdm in /usr/local/python/3.12.1/lib/python3.12/site-packages (from optuna) (4.67.1)\n",
      "Requirement already satisfied: PyYAML in /home/codespace/.local/lib/python3.12/site-packages (from optuna) (6.0.2)\n",
      "Requirement already satisfied: Mako in /usr/local/python/3.12.1/lib/python3.12/site-packages (from alembic>=1.5.0->optuna) (1.3.10)\n",
      "Requirement already satisfied: typing-extensions>=4.12 in /home/codespace/.local/lib/python3.12/site-packages (from alembic>=1.5.0->optuna) (4.13.2)\n",
      "Requirement already satisfied: greenlet>=1 in /usr/local/python/3.12.1/lib/python3.12/site-packages (from sqlalchemy>=1.4.2->optuna) (3.2.3)\n",
      "Requirement already satisfied: MarkupSafe>=0.9.2 in /home/codespace/.local/lib/python3.12/site-packages (from Mako->alembic>=1.5.0->optuna) (3.0.2)\n"
     ]
    },
    {
     "name": "stderr",
     "output_type": "stream",
     "text": [
      "/usr/local/python/3.12.1/lib/python3.12/site-packages/tqdm/auto.py:21: TqdmWarning: IProgress not found. Please update jupyter and ipywidgets. See https://ipywidgets.readthedocs.io/en/stable/user_install.html\n",
      "  from .autonotebook import tqdm as notebook_tqdm\n"
     ]
    }
   ],
   "source": [
    "# General utilities\n",
    "!pip install tqdm\n",
    "!pip install optuna\n",
    "\n",
    "import os\n",
    "import io\n",
    "import time\n",
    "import zipfile\n",
    "import requests\n",
    "from collections import Counter\n",
    "\n",
    "# Data handling and visualization\n",
    "import numpy as np\n",
    "import pandas as pd\n",
    "import matplotlib.pyplot as plt\n",
    "from tqdm import tqdm\n",
    "from IPython.display import display\n",
    " \n",
    "# Data source\n",
    "from sklearn.datasets import fetch_openml\n",
    "\n",
    " \n",
    "# scikit-learn core tools \n",
    "from sklearn.model_selection import (\n",
    "    train_test_split,\n",
    "    cross_val_score,\n",
    "    StratifiedKFold,\n",
    "    RandomizedSearchCV\n",
    ")\n",
    "\n",
    "from sklearn.pipeline import Pipeline\n",
    "from sklearn.compose import ColumnTransformer\n",
    "from sklearn.preprocessing import OrdinalEncoder\n",
    "\n",
    " \n",
    "# Import model \n",
    "from sklearn.ensemble import HistGradientBoostingClassifier\n",
    " \n",
    "# Metrics\n",
    "from sklearn.metrics import balanced_accuracy_score, classification_report\n",
    " \n",
    "# Distributions for random search\n",
    "from scipy.stats import loguniform, randint, uniform\n",
    "\n",
    "# pandas dtypes helpers\n",
    "from pandas.api.types import is_numeric_dtype, is_categorical_dtype\n",
    "from pandas import CategoricalDtype\n",
    "\n",
    "# Optuna Hyperparameter Search tool    (may need to be installed)\n",
    "import optuna\n",
    "\n",
    "\n",
    "# Misc\n",
    "\n",
    "random_seed = 42\n",
    "\n",
    "def format_hms(seconds):\n",
    "    return time.strftime(\"%H:%M:%S\", time.gmtime(seconds))\n",
    "\n"
   ]
  },
  {
   "cell_type": "markdown",
   "metadata": {},
   "source": [
    "### Prelude 1: Load and Preprocess the UCI Adult Income Dataset\n",
    "\n",
    "- Load the dataset from sklearn\n",
    "- Preliminary EDA\n",
    "- Feature Engineering "
   ]
  },
  {
   "cell_type": "code",
   "execution_count": 2,
   "metadata": {},
   "outputs": [
    {
     "name": "stdout",
     "output_type": "stream",
     "text": [
      "<class 'pandas.core.frame.DataFrame'>\n",
      "RangeIndex: 48842 entries, 0 to 48841\n",
      "Data columns (total 15 columns):\n",
      " #   Column          Non-Null Count  Dtype   \n",
      "---  ------          --------------  -----   \n",
      " 0   age             48842 non-null  int64   \n",
      " 1   workclass       46043 non-null  category\n",
      " 2   fnlwgt          48842 non-null  int64   \n",
      " 3   education       48842 non-null  category\n",
      " 4   education-num   48842 non-null  int64   \n",
      " 5   marital-status  48842 non-null  category\n",
      " 6   occupation      46033 non-null  category\n",
      " 7   relationship    48842 non-null  category\n",
      " 8   race            48842 non-null  category\n",
      " 9   sex             48842 non-null  category\n",
      " 10  capital-gain    48842 non-null  int64   \n",
      " 11  capital-loss    48842 non-null  int64   \n",
      " 12  hours-per-week  48842 non-null  int64   \n",
      " 13  native-country  47985 non-null  category\n",
      " 14  class           48842 non-null  category\n",
      "dtypes: category(9), int64(6)\n",
      "memory usage: 2.7 MB\n"
     ]
    }
   ],
   "source": [
    "# Load and clean\n",
    "df = fetch_openml(name='adult', version=2, as_frame=True).frame\n",
    "\n",
    "df.replace(\"?\", np.nan, inplace=True)            # Some datasets use ? instead of Nan for missing data\n",
    "\n",
    "df.info()"
   ]
  },
  {
   "cell_type": "markdown",
   "metadata": {},
   "source": [
    "#### Check: Is the dataset imbalanced?"
   ]
  },
  {
   "cell_type": "code",
   "execution_count": 3,
   "metadata": {},
   "outputs": [
    {
     "name": "stdout",
     "output_type": "stream",
     "text": [
      "class\n",
      "<=50K    0.760718\n",
      ">50K     0.239282\n",
      "Name: proportion, dtype: float64\n"
     ]
    }
   ],
   "source": [
    "print(df['class'].value_counts(normalize=True))"
   ]
  },
  {
   "cell_type": "markdown",
   "metadata": {},
   "source": [
    "**YES:** It looks like this dataset is somewhat imbalanced. Therefore, we will \n",
    "1. Tell the model to compensate during training by setting `class_weight='balanced'` when defining the model;\n",
    "2. Evaluate it `balanced_accuracy` instead of `accuracy` and with class-aware metrics (precision, recall, F1); and\n",
    "3. [Optional] Adjust the probability threshold instead of relying on raw accuracy alone after examining the precision-recall trade-off you observe at 0.5.\n",
    "    "
   ]
  },
  {
   "cell_type": "markdown",
   "metadata": {},
   "source": [
    "### Feature Engineering\n",
    "\n",
    "Based on the considerations in **Appendix One**, we'll make the following changes to the dataset to facilitate training:\n",
    "\n",
    "\n",
    "1. Drop `fnlwgt` and `education`.   \n",
    "3. Replace `capital-gain` and `capital-loss` by their difference `capital_net` and add a log-scaled version `capital_net_log`.\n"
   ]
  },
  {
   "cell_type": "code",
   "execution_count": 4,
   "metadata": {},
   "outputs": [
    {
     "name": "stdout",
     "output_type": "stream",
     "text": [
      "<class 'pandas.core.frame.DataFrame'>\n",
      "RangeIndex: 48842 entries, 0 to 48841\n",
      "Data columns (total 13 columns):\n",
      " #   Column           Non-Null Count  Dtype   \n",
      "---  ------           --------------  -----   \n",
      " 0   age              48842 non-null  int64   \n",
      " 1   workclass        46043 non-null  category\n",
      " 2   education-num    48842 non-null  int64   \n",
      " 3   marital-status   48842 non-null  category\n",
      " 4   occupation       46033 non-null  category\n",
      " 5   relationship     48842 non-null  category\n",
      " 6   race             48842 non-null  category\n",
      " 7   sex              48842 non-null  category\n",
      " 8   hours-per-week   48842 non-null  int64   \n",
      " 9   native-country   47985 non-null  category\n",
      " 10  class            48842 non-null  category\n",
      " 11  capital_net      48842 non-null  int64   \n",
      " 12  capital_net_log  48842 non-null  float64 \n",
      "dtypes: category(8), float64(1), int64(4)\n",
      "memory usage: 2.2 MB\n"
     ]
    }
   ],
   "source": [
    "# Drop the survey-weight column\n",
    "df_eng = df.drop(columns=[\"fnlwgt\"])\n",
    "\n",
    "# Keep only the ordinal education feature\n",
    "df_eng = df_eng.drop(columns=[\"education\"])      # retain 'education-num'\n",
    "\n",
    "# Combine capital gains and losses, add a log-scaled variant\n",
    "df_eng[\"capital_net\"]     = df_eng[\"capital-gain\"] - df_eng[\"capital-loss\"]\n",
    "df_eng[\"capital_net_log\"] = np.log1p(df_eng[\"capital_net\"].clip(lower=0))\n",
    "df_eng = df_eng.drop(columns=[\"capital-gain\", \"capital-loss\"])\n",
    "\n",
    "# check\n",
    "df_eng.info()"
   ]
  },
  {
   "cell_type": "markdown",
   "metadata": {},
   "source": [
    "#### Separate target and split\n",
    "\n",
    "Create the feature set `X` and the target set `y` (using `class` as the target) and split the dataset into 80% training and 20% testing sets, making sure to stratify."
   ]
  },
  {
   "cell_type": "code",
   "execution_count": 5,
   "metadata": {},
   "outputs": [
    {
     "name": "stdout",
     "output_type": "stream",
     "text": [
      "Train: (39073, 12) (39073,)\n",
      "Test : (9769, 12) (9769,)\n"
     ]
    }
   ],
   "source": [
    "\n",
    "X = df_eng.drop(columns=[\"class\"])\n",
    "y = (df_eng[\"class\"] == \">50K\").astype(int)\n",
    "\n",
    "# Split (with stratification)\n",
    "X_train, X_test, y_train, y_test = train_test_split(\n",
    "    X, y,\n",
    "    test_size=0.2,\n",
    "    random_state=random_seed,\n",
    "    stratify=y                           # So same proportion of classes in train and test sets\n",
    ")\n",
    "\n",
    "print(\"Train:\", X_train.shape, y_train.shape)\n",
    "print(\"Test :\", X_test.shape,  y_test.shape)"
   ]
  },
  {
   "cell_type": "markdown",
   "metadata": {},
   "source": [
    "### Prelude 2: Create a data pipeline and the `HistGradientBoostingClassifier` model\n",
    "\n",
    "Histogram-based gradient boosting improves on the standard version by:\n",
    "\n",
    "* **Histogram splits:** bins each feature into ≤ `max_bins` quantiles (i.e., each bin is approximately the same size) and tests splits only between bins, slashing compute time and scaling to large data sets. Default for `max_bins` = 255. \n",
    "* **Native NaN handling:** treats missing values as their own bin—no imputation needed.\n",
    "* **Native Categorical Support**: accepts integer-encoded categories directly and tests “category c vs. all others” splits, eliminating one-hot blow-ups and fake orderings.\n",
    "* **Built-in early stopping:** stops training after no improvement in validation loss after `n_iter_no_change` rounds. `tol` defines \"improvement\" (default is 1e-7). \n",
    "* **Leaf shrinkage:** adds `l2_regularization`, which ridge-shrinks each leaf value (without changing tree shape) so tiny, noisy leaves have less effect.\n",
    "\n",
    ">**Summary:**  Histogram-based GB trades a tiny approximation error (binning) for a **huge speed-up** and adds extra conveniences, making it the preferred choice for large tabular data sets. Tuning workflow relies on **Early stopping** to stop training before overfitting occurs. "
   ]
  },
  {
   "cell_type": "code",
   "execution_count": 6,
   "metadata": {},
   "outputs": [],
   "source": [
    "# Define a baseline model \n",
    "\n",
    "HGBC_model = HistGradientBoostingClassifier(\n",
    "    # tree structure and learning rate\n",
    "    learning_rate=0.1,            # These 5 parameters are at defaults for our baseline training in Problem 1             \n",
    "    max_leaf_nodes=31,            # but will be tuned by randomized search in Problem 2 and Optuna in Problem 3               \n",
    "    max_depth=None,               \n",
    "    min_samples_leaf=20,          \n",
    "    l2_regularization=0.0,        \n",
    "\n",
    "    # bins and iteration\n",
    "    max_bins=255,                 # default\n",
    "    max_iter=500,                 # high enough for early stopping\n",
    "    early_stopping=True,\n",
    "    n_iter_no_change=20,\n",
    "    validation_fraction=0.2,      # 20% monitored for early stopping\n",
    "    tol=1e-7,                     # default tolerance for validation improvement\n",
    "\n",
    "    # class imbalance\n",
    "    class_weight=\"balanced\",\n",
    "\n",
    "    random_state=random_seed,\n",
    "    verbose=0\n",
    ")\n"
   ]
  },
  {
   "cell_type": "markdown",
   "metadata": {},
   "source": [
    "### Create a pipeline appropriate for HGBC \n",
    "\n",
    "**Why use a `Pipeline` instead of encoding in the dataset first?**\n",
    "\n",
    "* **Avoid data leakage.** In each CV fold, the `OrdinalEncoder` is refit only on that fold’s training data, so the validation split never influences the encoder.\n",
    "* **Single, reusable object.** The pipeline bundles preprocessing + model, letting you call `fit`/`predict` on raw data anywhere (CV, Optuna, production) with identical behavior.\n",
    "* **Compatible with search tools.** `cross_validate`, `GridSearchCV`, and Optuna expect an estimator that can be cloned and refit; a pipeline meets that requirement automatically.\n",
    "\n",
    "Put simply, the pipeline gives you leak-free evaluation and portable, hassle-free tuning without extra code.\n"
   ]
  },
  {
   "cell_type": "code",
   "execution_count": 7,
   "metadata": {},
   "outputs": [],
   "source": [
    "enc = OrdinalEncoder(\n",
    "    handle_unknown=\"use_encoded_value\",   # Allow unseen categories during transform\n",
    "    unknown_value=-1,                     # Code for unseen categories\n",
    "    encoded_missing_value=-2,             # Code for missing values (NaN)\n",
    "    dtype=np.int64                        # Needed for HistGradientBoostingClassifier\n",
    ")\n",
    "\n",
    "# Categorical features\n",
    "cat_cols = X.select_dtypes(exclude=[\"number\"]).columns.tolist()\n",
    "\n",
    "# Numeric features (everything that isn’t object / category)\n",
    "num_cols = X.select_dtypes(include=[\"number\"]).columns.tolist()\n",
    "\n",
    "preprocess = ColumnTransformer(\n",
    "    [(\"cat\", enc, cat_cols),\n",
    "     (\"num\", \"passthrough\", num_cols)]\n",
    ")\n",
    "\n",
    "pipelined_model = Pipeline([\n",
    "    (\"prep\", preprocess),\n",
    "    (\"gb\",   HGBC_model)\n",
    "])"
   ]
  },
  {
   "cell_type": "markdown",
   "metadata": {},
   "source": [
    "## Problem 1: Baseline Cross-Validation with F1\n",
    "\n",
    "In this problem, you will run a baseline cross-validation evaluation of your `HistGradientBoostingClassifier` pipeline, using `HGBC_model` defined above. \n",
    "\n",
    "**Background:**\n",
    "\n",
    "* Since the Adult dataset is imbalanced (about 24% positives, 76% negatives), accuracy alone is not reliable.\n",
    "* We will use the **F1 score** as the evaluation metric, since it balances precision (avoiding false positives) and recall (avoiding false negatives) in a single measure. This is a fairer metric for imbalanced classification, where both types of error matter.\n",
    "* We will apply **5-fold stratified cross-validation** to make sure each fold has the same proportion of the classes as the original dataset.\n",
    "* Repeated cross-validation is optional and not required here, because the Adult dataset is large and `HistGradientBoostingClassifier` is robust to small sampling differences. \n",
    "\n",
    "**Instructions:**\n",
    "\n",
    "1. Set up a `StratifiedKFold` cross-validation object with 5 splits, shuffling enabled, and `random_state=random_seed`.\n",
    "2. Use `cross_val_score` to estimate the mean F1 score and its standard deviation across the folds.\n",
    "3. Print out the mean and standard deviation of the F1 score, rounded to 4 decimal places.\n",
    "4. Answer the graded question.\n"
   ]
  },
  {
   "cell_type": "code",
   "execution_count": 14,
   "metadata": {},
   "outputs": [
    {
     "name": "stdout",
     "output_type": "stream",
     "text": [
      "F1 scores across folds: [0.71761542 0.71247818 0.71314031 0.7119448  0.7065073 ]\n",
      "Mean F1 score:  0.7123372047602929\n",
      "Standard Deviation:  0.003540229454084223\n"
     ]
    }
   ],
   "source": [
    "# Your code here\n",
    "from sklearn.model_selection import StratifiedKFold, cross_val_score\n",
    "from sklearn.metrics import make_scorer, f1_score\n",
    "\n",
    "# Step 1: Use stratified CV to make sure each fold keeps the same class ratio\n",
    "cv = StratifiedKFold(n_splits=5, shuffle=True, random_state=42)\n",
    "\n",
    "# Step 2: Run cross-validation using F1 score (better than accuracy for imbalanced data)\n",
    "scores = cross_val_score(pipelined_model, X_train, y_train, \n",
    "                         cv=cv, scoring='f1')\n",
    "\n",
    "# Step 3: Output the results\n",
    "print(\"F1 scores across folds:\", scores)\n",
    "print(\"Mean F1 score: \", scores.mean())\n",
    "print(\"Standard Deviation: \", scores.std())\n",
    "\n"
   ]
  },
  {
   "cell_type": "markdown",
   "metadata": {},
   "source": [
    "### Problem 1 Graded Answer\n",
    "\n",
    "Set `a1` to the mean F1 score of the baseline model. "
   ]
  },
  {
   "cell_type": "code",
   "execution_count": 16,
   "metadata": {},
   "outputs": [
    {
     "name": "stdout",
     "output_type": "stream",
     "text": [
      "a1 = 0.7123\n"
     ]
    }
   ],
   "source": [
    " # Your answer here\n",
    "\n",
    "a1 = scores.mean()\n",
    "print(f'a1 = {a1:.4f}')\n",
    "                    # replace 0 with an expression"
   ]
  },
  {
   "cell_type": "code",
   "execution_count": 11,
   "metadata": {},
   "outputs": [
    {
     "name": "stdout",
     "output_type": "stream",
     "text": [
      "a1 = 0.7435\n"
     ]
    }
   ],
   "source": [
    "# DO NOT change this cell in any way\n",
    "\n",
    "print(f'a1 = {a1:.4f}')"
   ]
  },
  {
   "cell_type": "markdown",
   "metadata": {},
   "source": [
    "## Problem 2: Hyperparameter Optimization with Randomized Search for F1\n",
    "\n",
    "In this problem, you will tune your `pipelined_model` using `RandomizedSearchCV` to identify the best combination of tree structure and learning rate parameters that maximize the **F1 score**.\n",
    "\n",
    "**Background:**\n",
    "The F1 score is our main metric because it balances precision and recall on an imbalanced dataset. Optimizing hyperparameters for F1 ensures we manage both false positives and false negatives in a single measure.\n",
    "\n",
    "**Instructions:**\n",
    "\n",
    "1. Set up a randomized search over the following hyperparameter ranges, using appropriate random-number distributions:\n",
    "\n",
    "   * `learning_rate` (log-uniform between 1e-3 and 0.3)\n",
    "   * `max_leaf_nodes` (integer from 16 to 256)\n",
    "   * `max_depth` (integer from 2 to 10)\n",
    "   * `min_samples_leaf` (integer from 10 to 200)\n",
    "   * `l2_regularization` (uniform between 0.0 and 2.0)\n",
    "2. Use **5-fold stratified cross-validation**, with the same settings as in Problem 1.\n",
    "3. Set `n_iter` to at least 100 trials. More trials will generally yield better results, if your time and machine allow.\n",
    "4. After running the search, show a neatly formatted table of the top 5 results, using `display(...)` showing their mean F1 scores, standard deviation, and the chosen hyperparameter values.\n",
    "5. Answer the graded question.\n",
    "\n",
    "\n"
   ]
  },
  {
   "cell_type": "markdown",
   "metadata": {},
   "source": [
    "# Your code here\n",
    "\n",
    "from sklearn.model_selection import RandomizedSearchCV\n",
    "from scipy.stats import loguniform, randint, uniform\n",
    "\n",
    "param_distributions = {\n",
    "    'gb__learning_rate': loguniform(1e-3, 0.3),\n",
    "    'gb__max_leaf_nodes': randint(16, 256),\n",
    "    'gb__max_depth': randint(2, 10),\n",
    "    'gb__min_samples_leaf': randint(10, 200),\n",
    "    'gb__l2_regularization': uniform(0.0, 2.0)\n",
    "}\n",
    "\n",
    "cv = StratifiedKFold(n_splits=5, shuffle=True, random_state=42)\n",
    "\n",
    "search = RandomizedSearchCV(\n",
    "    estimator=pipelined_model,\n",
    "    param_distributions=param_distributions,\n",
    "    n_iter=100,\n",
    "    cv=cv,\n",
    "    scoring='f1',\n",
    "    verbose=1,\n",
    "    n_jobs=-1,\n",
    "    random_state=42\n",
    ")\n",
    "\n",
    "search.fit(X_train, y_train)\n"
   ]
  },
  {
   "cell_type": "code",
   "execution_count": 17,
   "metadata": {},
   "outputs": [
    {
     "name": "stdout",
     "output_type": "stream",
     "text": [
      "F1 scores for each fold: [0.71761542 0.71247818 0.71314031 0.7119448  0.7065073 ]\n",
      "Average F1 score: 0.7123\n",
      "Std deviation: 0.0035\n"
     ]
    }
   ],
   "source": [
    "from sklearn.model_selection import StratifiedKFold, cross_val_score\n",
    "from sklearn.metrics import f1_score\n",
    "\n",
    "# Just making sure each fold keeps the same class ratio (since income >50K is less common)\n",
    "cv = StratifiedKFold(n_splits=5, shuffle=True, random_state=42)\n",
    "\n",
    "# Using F1 score instead of accuracy since our dataset is imbalanced\n",
    "f1_scores = cross_val_score(\n",
    "    pipelined_model,\n",
    "    X_train,\n",
    "    y_train,\n",
    "    cv=cv,\n",
    "    scoring='f1'\n",
    ")\n",
    "\n",
    "# Quick look at the F1 results across folds\n",
    "print(\"F1 scores for each fold:\", f1_scores)\n",
    "print(\"Average F1 score: {:.4f}\".format(f1_scores.mean()))\n",
    "print(\"Std deviation: {:.4f}\".format(f1_scores.std()))\n"
   ]
  },
  {
   "cell_type": "markdown",
   "metadata": {},
   "source": [
    "### Problem 2 Graded Answer\n",
    "\n",
    "Set `a2` to the mean F1 score of the best model found. "
   ]
  },
  {
   "cell_type": "code",
   "execution_count": 19,
   "metadata": {},
   "outputs": [
    {
     "name": "stdout",
     "output_type": "stream",
     "text": [
      "Fitting 5 folds for each of 100 candidates, totalling 500 fits\n"
     ]
    },
    {
     "name": "stdout",
     "output_type": "stream",
     "text": [
      "a2 = 0.7121\n"
     ]
    }
   ],
   "source": [
    " # Your answer here\n",
    "\n",
    "# Your answer here\n",
    "\n",
    "from sklearn.model_selection import RandomizedSearchCV, StratifiedKFold\n",
    "from scipy.stats import loguniform, randint, uniform\n",
    "\n",
    "# Define the hyperparameter search space\n",
    "param_distributions = {\n",
    "    'gb__learning_rate': loguniform(1e-3, 0.3),\n",
    "    'gb__max_leaf_nodes': randint(16, 256),\n",
    "    'gb__max_depth': randint(2, 10),\n",
    "    'gb__min_samples_leaf': randint(10, 200),\n",
    "    'gb__l2_regularization': uniform(0.0, 2.0)\n",
    "}\n",
    "\n",
    "# Set up cross-validation\n",
    "cv = StratifiedKFold(n_splits=5, shuffle=True, random_state=42)\n",
    "\n",
    "# Run the randomized search with F1 scoring\n",
    "search = RandomizedSearchCV(\n",
    "    estimator=pipelined_model,\n",
    "    param_distributions=param_distributions,\n",
    "    n_iter=100,\n",
    "    cv=cv,\n",
    "    scoring='f1',\n",
    "    random_state=42,\n",
    "    n_jobs=-1,\n",
    "    verbose=1\n",
    ")\n",
    "\n",
    "# Fit the model and store best result\n",
    "search.fit(X_train, y_train)\n",
    "\n",
    "# Get best F1 score\n",
    "a2 = search.best_score_\n",
    "\n",
    "\n",
    "print(f'a2 = {a2:.4f}')              # replace 0 with your answer, may copy from the displayed results"
   ]
  },
  {
   "cell_type": "code",
   "execution_count": 20,
   "metadata": {},
   "outputs": [
    {
     "name": "stdout",
     "output_type": "stream",
     "text": [
      "a2 = 0.7121\n"
     ]
    }
   ],
   "source": [
    "# DO NOT change this cell in any way\n",
    "\n",
    "print(f'a2 = {a2:.4f}')"
   ]
  },
  {
   "cell_type": "markdown",
   "metadata": {},
   "source": [
    "## Problem 3: Hyperparameter Optimization with Optuna for F1\n",
    "\n",
    "In this problem, you will explore **Optuna**, a powerful hyperparameter optimization framework, to identify the best combination of hyperparameters that maximize the F1 score of your `pipelined_model`.\n",
    "\n",
    "**Background:**\n",
    "Optuna uses a smarter sampling strategy than grid search or randomized search, allowing you to explore the hyperparameter space more efficiently. It also supports *pruning*, which can stop unpromising trials early to save time. This makes it a popular SOTA optimization tool.\n",
    "\n",
    "**Before you start** browse the [Optuna documentation](https://optuna.org) and view the [tutorial video](https://optuna.readthedocs.io/en/stable/tutorial/index.html). \n",
    "\n",
    "As before, we focus on the **F1 score** because it balances precision and recall, making it more robust on an imbalanced dataset.\n",
    "\n",
    "**Instructions:**\n",
    "\n",
    "1. Define an Optuna objective function to optimize F1 score, sampling the exact same hyperparameter ranges you did in Problem 2 and using the same CV settings.  \n",
    "3. Set up an Optuna study with a reasonable number of trials (e.g., 100–500 depending on runtime resources--on my machine Optuna runs about 10x faster than randomized search for the same number of trials, but YMMV).\n",
    "4. After running the optimization, `display` a clean table with the top 5 trials showing their F1 scores and corresponding hyperparameter settings.\n",
    "5. Answer the graded question. \n",
    "\n",
    "**Note:**  There are many resources on Optuna you can find on the web, but for this problem, you have my permission to let ChatGPT write the code for you. "
   ]
  },
  {
   "cell_type": "code",
   "execution_count": 22,
   "metadata": {},
   "outputs": [],
   "source": [
    "# Your code here\n",
    "# Using Optuna to tune the HGBC hyperparameters — this searches smarter than random search\n",
    "import optuna\n",
    "\n",
    "def objective(trial):\n",
    "    # Suggest values for key hyperparameters\n",
    "    params = {\n",
    "        'gb__learning_rate': trial.suggest_float(\"learning_rate\", 1e-3, 0.3, log=True),\n",
    "        'gb__max_leaf_nodes': trial.suggest_int(\"max_leaf_nodes\", 16, 256),\n",
    "        'gb__max_depth': trial.suggest_int(\"max_depth\", 2, 10),\n",
    "        'gb__min_samples_leaf': trial.suggest_int(\"min_samples_leaf\", 10, 200),\n",
    "        'gb__l2_regularization': trial.suggest_float(\"l2_regularization\", 0.0, 2.0)\n",
    "    }\n",
    "\n",
    "    # Build pipeline with trial parameters\n",
    "    model = Pipeline([\n",
    "        (\"prep\", preprocess),  # encode + transform inputs\n",
    "        (\"gb\", HistGradientBoostingClassifier(\n",
    "            learning_rate=params['gb__learning_rate'],\n",
    "            max_leaf_nodes=params['gb__max_leaf_nodes'],\n",
    "            max_depth=params['gb__max_depth'],\n",
    "            min_samples_leaf=params['gb__min_samples_leaf'],\n",
    "            l2_regularization=params['gb__l2_regularization'],\n",
    "            class_weight=\"balanced\",             # handling class imbalance\n",
    "            early_stopping=True,\n",
    "            max_iter=500,\n",
    "            n_iter_no_change=20,\n",
    "            validation_fraction=0.2,\n",
    "            random_state=42\n",
    "        ))\n",
    "    ])\n",
    "\n",
    "    # Run cross-validation with F1 scoring\n",
    "    cv = StratifiedKFold(n_splits=5, shuffle=True, random_state=42)\n",
    "    f1_scores = cross_val_score(model, X_train, y_train, cv=cv, scoring=\"f1\", n_jobs=-1)\n",
    "\n",
    "    # Return average F1 so Optuna knows how good this config was\n",
    "    return f1_scores.mean()\n",
    "\n",
    "\n",
    "\n",
    "\n"
   ]
  },
  {
   "cell_type": "code",
   "execution_count": 13,
   "metadata": {},
   "outputs": [
    {
     "name": "stderr",
     "output_type": "stream",
     "text": [
      "[I 2025-07-07 02:16:53,837] A new study created in memory with name: no-name-4c921115-6d5a-4a62-a6fd-04f04a6d874f\n",
      "[I 2025-07-07 02:16:59,050] Trial 0 finished with value: 0.7088049812868545 and parameters: {'learning_rate': 0.14065783745755264, 'max_leaf_nodes': 68, 'max_depth': 9, 'min_samples_leaf': 83, 'l2_regularization': 0.27258100407124464}. Best is trial 0 with value: 0.7088049812868545.\n",
      "[I 2025-07-07 02:17:01,758] Trial 1 finished with value: 0.7119127607474163 and parameters: {'learning_rate': 0.17532798675667172, 'max_leaf_nodes': 94, 'max_depth': 8, 'min_samples_leaf': 42, 'l2_regularization': 1.4594645039760212}. Best is trial 1 with value: 0.7119127607474163.\n",
      "[I 2025-07-07 02:17:08,726] Trial 2 finished with value: 0.7111465765026067 and parameters: {'learning_rate': 0.04894901104999149, 'max_leaf_nodes': 256, 'max_depth': 6, 'min_samples_leaf': 43, 'l2_regularization': 1.929032492449778}. Best is trial 1 with value: 0.7119127607474163.\n",
      "[I 2025-07-07 02:17:14,152] Trial 3 finished with value: 0.7117017390524774 and parameters: {'learning_rate': 0.13461293614015055, 'max_leaf_nodes': 245, 'max_depth': 4, 'min_samples_leaf': 100, 'l2_regularization': 1.9798701428458096}. Best is trial 1 with value: 0.7119127607474163.\n",
      "[I 2025-07-07 02:17:25,239] Trial 4 finished with value: 0.7082546687215351 and parameters: {'learning_rate': 0.02605469347682671, 'max_leaf_nodes': 205, 'max_depth': 8, 'min_samples_leaf': 144, 'l2_regularization': 1.9646212699284484}. Best is trial 1 with value: 0.7119127607474163.\n",
      "[I 2025-07-07 02:17:42,099] Trial 5 finished with value: 0.6731676721552746 and parameters: {'learning_rate': 0.0017234270291806315, 'max_leaf_nodes': 234, 'max_depth': 10, 'min_samples_leaf': 152, 'l2_regularization': 1.2441161995173065}. Best is trial 1 with value: 0.7119127607474163.\n",
      "[I 2025-07-07 02:17:54,065] Trial 6 finished with value: 0.7110111036775526 and parameters: {'learning_rate': 0.023090531488968613, 'max_leaf_nodes': 100, 'max_depth': 9, 'min_samples_leaf': 14, 'l2_regularization': 0.40985625682162974}. Best is trial 1 with value: 0.7119127607474163.\n",
      "[I 2025-07-07 02:18:02,423] Trial 7 finished with value: 0.7009482890444183 and parameters: {'learning_rate': 0.022162524623985432, 'max_leaf_nodes': 135, 'max_depth': 5, 'min_samples_leaf': 193, 'l2_regularization': 0.5697191765916942}. Best is trial 1 with value: 0.7119127607474163.\n",
      "[I 2025-07-07 02:18:13,608] Trial 8 finished with value: 0.6733169724403802 and parameters: {'learning_rate': 0.004000439709119384, 'max_leaf_nodes': 229, 'max_depth': 6, 'min_samples_leaf': 135, 'l2_regularization': 0.780236802509042}. Best is trial 1 with value: 0.7119127607474163.\n",
      "[I 2025-07-07 02:18:32,320] Trial 9 finished with value: 0.6790319852555775 and parameters: {'learning_rate': 0.0037884147039007874, 'max_leaf_nodes': 84, 'max_depth': 10, 'min_samples_leaf': 109, 'l2_regularization': 0.6363078386593686}. Best is trial 1 with value: 0.7119127607474163.\n",
      "[I 2025-07-07 02:18:36,713] Trial 10 finished with value: 0.7120416106070981 and parameters: {'learning_rate': 0.29613951812027706, 'max_leaf_nodes': 174, 'max_depth': 2, 'min_samples_leaf': 57, 'l2_regularization': 1.3821393018230546}. Best is trial 10 with value: 0.7120416106070981.\n",
      "[I 2025-07-07 02:18:40,716] Trial 11 finished with value: 0.7110879268743477 and parameters: {'learning_rate': 0.2513016596356014, 'max_leaf_nodes': 171, 'max_depth': 2, 'min_samples_leaf': 55, 'l2_regularization': 1.3067784804148592}. Best is trial 10 with value: 0.7120416106070981.\n",
      "[I 2025-07-07 02:18:44,694] Trial 12 finished with value: 0.7105660725996407 and parameters: {'learning_rate': 0.2895776969227392, 'max_leaf_nodes': 136, 'max_depth': 2, 'min_samples_leaf': 53, 'l2_regularization': 1.4758324169301167}. Best is trial 10 with value: 0.7120416106070981.\n",
      "[I 2025-07-07 02:18:50,033] Trial 13 finished with value: 0.7099011151118908 and parameters: {'learning_rate': 0.06227153458070305, 'max_leaf_nodes': 40, 'max_depth': 7, 'min_samples_leaf': 29, 'l2_regularization': 1.5898526778238036}. Best is trial 10 with value: 0.7120416106070981.\n",
      "[I 2025-07-07 02:18:56,081] Trial 14 finished with value: 0.7112980283918594 and parameters: {'learning_rate': 0.09139736273481822, 'max_leaf_nodes': 175, 'max_depth': 4, 'min_samples_leaf': 76, 'l2_regularization': 1.0634355038550385}. Best is trial 10 with value: 0.7120416106070981.\n",
      "[I 2025-07-07 02:19:02,828] Trial 15 finished with value: 0.6803219037581487 and parameters: {'learning_rate': 0.011265484260434585, 'max_leaf_nodes': 20, 'max_depth': 3, 'min_samples_leaf': 70, 'l2_regularization': 1.6422995808671725}. Best is trial 10 with value: 0.7120416106070981.\n",
      "[I 2025-07-07 02:19:05,131] Trial 16 finished with value: 0.711283778006519 and parameters: {'learning_rate': 0.1821878917624566, 'max_leaf_nodes': 115, 'max_depth': 7, 'min_samples_leaf': 17, 'l2_regularization': 0.992389870146908}. Best is trial 10 with value: 0.7120416106070981.\n",
      "[I 2025-07-07 02:19:11,617] Trial 17 finished with value: 0.7106356787601092 and parameters: {'learning_rate': 0.048467413441878396, 'max_leaf_nodes': 168, 'max_depth': 8, 'min_samples_leaf': 35, 'l2_regularization': 0.02429367994388265}. Best is trial 10 with value: 0.7120416106070981.\n",
      "[I 2025-07-07 02:19:20,805] Trial 18 finished with value: 0.6882841807766396 and parameters: {'learning_rate': 0.009805969976150459, 'max_leaf_nodes': 201, 'max_depth': 5, 'min_samples_leaf': 107, 'l2_regularization': 1.7447359082729152}. Best is trial 10 with value: 0.7120416106070981.\n",
      "[I 2025-07-07 02:19:26,861] Trial 19 finished with value: 0.7114158895092151 and parameters: {'learning_rate': 0.09512623614977149, 'max_leaf_nodes': 61, 'max_depth': 3, 'min_samples_leaf': 60, 'l2_regularization': 1.3439537755779738}. Best is trial 10 with value: 0.7120416106070981.\n",
      "[I 2025-07-07 02:19:28,875] Trial 20 finished with value: 0.7093560918456465 and parameters: {'learning_rate': 0.298380934539874, 'max_leaf_nodes': 139, 'max_depth': 7, 'min_samples_leaf': 88, 'l2_regularization': 1.000677537701128}. Best is trial 10 with value: 0.7120416106070981.\n",
      "[I 2025-07-07 02:19:34,280] Trial 21 finished with value: 0.7118888670821344 and parameters: {'learning_rate': 0.13912744205529787, 'max_leaf_nodes': 194, 'max_depth': 3, 'min_samples_leaf': 97, 'l2_regularization': 1.788000943227842}. Best is trial 10 with value: 0.7120416106070981.\n",
      "[I 2025-07-07 02:19:40,200] Trial 22 finished with value: 0.7110953349902717 and parameters: {'learning_rate': 0.09530463230251345, 'max_leaf_nodes': 201, 'max_depth': 3, 'min_samples_leaf': 39, 'l2_regularization': 1.73175163038875}. Best is trial 10 with value: 0.7120416106070981.\n",
      "[I 2025-07-07 02:19:45,779] Trial 23 finished with value: 0.7114535471294575 and parameters: {'learning_rate': 0.16091392835857593, 'max_leaf_nodes': 155, 'max_depth': 2, 'min_samples_leaf': 126, 'l2_regularization': 1.4527278692245693}. Best is trial 10 with value: 0.7120416106070981.\n",
      "[I 2025-07-07 02:19:49,120] Trial 24 finished with value: 0.7121315873456726 and parameters: {'learning_rate': 0.19574482264927973, 'max_leaf_nodes': 191, 'max_depth': 4, 'min_samples_leaf': 170, 'l2_regularization': 1.2066483490313804}. Best is trial 24 with value: 0.7121315873456726.\n",
      "[I 2025-07-07 02:19:56,187] Trial 25 finished with value: 0.7095523861408243 and parameters: {'learning_rate': 0.06873354078275566, 'max_leaf_nodes': 114, 'max_depth': 4, 'min_samples_leaf': 195, 'l2_regularization': 1.1402975561372688}. Best is trial 24 with value: 0.7121315873456726.\n",
      "[I 2025-07-07 02:20:04,886] Trial 26 finished with value: 0.7089164594974104 and parameters: {'learning_rate': 0.040345848392079976, 'max_leaf_nodes': 152, 'max_depth': 6, 'min_samples_leaf': 174, 'l2_regularization': 0.7975267920631103}. Best is trial 24 with value: 0.7121315873456726.\n",
      "[I 2025-07-07 02:20:08,066] Trial 27 finished with value: 0.7096716640611074 and parameters: {'learning_rate': 0.2001003739008768, 'max_leaf_nodes': 184, 'max_depth': 5, 'min_samples_leaf': 176, 'l2_regularization': 1.464756600370444}. Best is trial 24 with value: 0.7121315873456726.\n",
      "[I 2025-07-07 02:20:11,083] Trial 28 finished with value: 0.7109928868609832 and parameters: {'learning_rate': 0.22759289443618616, 'max_leaf_nodes': 218, 'max_depth': 4, 'min_samples_leaf': 121, 'l2_regularization': 1.1767348625689422}. Best is trial 24 with value: 0.7121315873456726.\n",
      "[I 2025-07-07 02:20:14,889] Trial 29 finished with value: 0.7108419462664182 and parameters: {'learning_rate': 0.12600648456570832, 'max_leaf_nodes': 59, 'max_depth': 9, 'min_samples_leaf': 162, 'l2_regularization': 0.8507590379492775}. Best is trial 24 with value: 0.7121315873456726.\n",
      "[I 2025-07-07 02:20:25,771] Trial 30 finished with value: 0.7097480842405474 and parameters: {'learning_rate': 0.03322474229910083, 'max_leaf_nodes': 115, 'max_depth': 8, 'min_samples_leaf': 87, 'l2_regularization': 1.6004618379511764}. Best is trial 24 with value: 0.7121315873456726.\n",
      "[I 2025-07-07 02:20:31,809] Trial 31 finished with value: 0.7121729113803352 and parameters: {'learning_rate': 0.10653876072156404, 'max_leaf_nodes': 192, 'max_depth': 3, 'min_samples_leaf': 69, 'l2_regularization': 1.4003834842993848}. Best is trial 31 with value: 0.7121729113803352.\n",
      "[I 2025-07-07 02:20:37,034] Trial 32 finished with value: 0.7115911511643178 and parameters: {'learning_rate': 0.1860625710273068, 'max_leaf_nodes': 159, 'max_depth': 2, 'min_samples_leaf': 68, 'l2_regularization': 1.3631849418259359}. Best is trial 31 with value: 0.7121729113803352.\n",
      "[I 2025-07-07 02:20:42,763] Trial 33 finished with value: 0.7118878410667036 and parameters: {'learning_rate': 0.10680811748816559, 'max_leaf_nodes': 186, 'max_depth': 3, 'min_samples_leaf': 48, 'l2_regularization': 1.2133330622097411}. Best is trial 31 with value: 0.7121729113803352.\n",
      "[I 2025-07-07 02:20:49,544] Trial 34 finished with value: 0.7115504160872462 and parameters: {'learning_rate': 0.059468949380747795, 'max_leaf_nodes': 215, 'max_depth': 4, 'min_samples_leaf': 29, 'l2_regularization': 1.5142204335409106}. Best is trial 31 with value: 0.7121729113803352.\n",
      "[I 2025-07-07 02:20:54,842] Trial 35 finished with value: 0.7114500743965607 and parameters: {'learning_rate': 0.14889581946975136, 'max_leaf_nodes': 252, 'max_depth': 2, 'min_samples_leaf': 60, 'l2_regularization': 1.8500195050371384}. Best is trial 31 with value: 0.7121729113803352.\n",
      "[I 2025-07-07 02:21:00,860] Trial 36 finished with value: 0.7109491964025885 and parameters: {'learning_rate': 0.08375793648331557, 'max_leaf_nodes': 99, 'max_depth': 5, 'min_samples_leaf': 81, 'l2_regularization': 1.3709083565497115}. Best is trial 31 with value: 0.7121729113803352.\n",
      "[I 2025-07-07 02:21:04,419] Trial 37 finished with value: 0.7117079742301861 and parameters: {'learning_rate': 0.214910035412342, 'max_leaf_nodes': 215, 'max_depth': 3, 'min_samples_leaf': 44, 'l2_regularization': 0.9390402458161409}. Best is trial 31 with value: 0.7121729113803352.\n",
      "[I 2025-07-07 02:21:07,889] Trial 38 finished with value: 0.7116335348923984 and parameters: {'learning_rate': 0.1290282979038673, 'max_leaf_nodes': 183, 'max_depth': 6, 'min_samples_leaf': 23, 'l2_regularization': 1.2961054205448304}. Best is trial 31 with value: 0.7121729113803352.\n",
      "[I 2025-07-07 02:21:11,657] Trial 39 finished with value: 0.7110317991670935 and parameters: {'learning_rate': 0.2942548373338691, 'max_leaf_nodes': 228, 'max_depth': 2, 'min_samples_leaf': 67, 'l2_regularization': 1.1615843445013967}. Best is trial 31 with value: 0.7121729113803352.\n",
      "[I 2025-07-07 02:21:19,589] Trial 40 finished with value: 0.6988789790745269 and parameters: {'learning_rate': 0.016908221536848837, 'max_leaf_nodes': 82, 'max_depth': 4, 'min_samples_leaf': 11, 'l2_regularization': 1.0906602688783216}. Best is trial 31 with value: 0.7121729113803352.\n",
      "[I 2025-07-07 02:21:25,199] Trial 41 finished with value: 0.711557427879408 and parameters: {'learning_rate': 0.12457740567826989, 'max_leaf_nodes': 198, 'max_depth': 3, 'min_samples_leaf': 92, 'l2_regularization': 1.8448756516459768}. Best is trial 31 with value: 0.7121729113803352.\n",
      "[I 2025-07-07 02:21:30,089] Trial 42 finished with value: 0.7118004775868605 and parameters: {'learning_rate': 0.16242296993510832, 'max_leaf_nodes': 193, 'max_depth': 3, 'min_samples_leaf': 97, 'l2_regularization': 1.6656943123123895}. Best is trial 31 with value: 0.7121729113803352.\n",
      "[I 2025-07-07 02:21:34,926] Trial 43 finished with value: 0.7098465092739501 and parameters: {'learning_rate': 0.22851929121775144, 'max_leaf_nodes': 243, 'max_depth': 2, 'min_samples_leaf': 118, 'l2_regularization': 1.5405431851948697}. Best is trial 31 with value: 0.7121729113803352.\n",
      "[I 2025-07-07 02:21:41,921] Trial 44 finished with value: 0.6157661146281767 and parameters: {'learning_rate': 0.0013595491222341076, 'max_leaf_nodes': 166, 'max_depth': 3, 'min_samples_leaf': 101, 'l2_regularization': 1.9716699735876693}. Best is trial 31 with value: 0.7121729113803352.\n",
      "[I 2025-07-07 02:21:48,055] Trial 45 finished with value: 0.709674216720041 and parameters: {'learning_rate': 0.07000289161808577, 'max_leaf_nodes': 146, 'max_depth': 9, 'min_samples_leaf': 77, 'l2_regularization': 1.8250283810702204}. Best is trial 31 with value: 0.7121729113803352.\n",
      "[I 2025-07-07 02:22:05,099] Trial 46 finished with value: 0.6777805263163186 and parameters: {'learning_rate': 0.0034561723312967964, 'max_leaf_nodes': 129, 'max_depth': 10, 'min_samples_leaf': 139, 'l2_regularization': 1.2478879563116407}. Best is trial 31 with value: 0.7121729113803352.\n",
      "[I 2025-07-07 02:22:09,386] Trial 47 finished with value: 0.7120021344746645 and parameters: {'learning_rate': 0.12484378181508979, 'max_leaf_nodes': 180, 'max_depth': 4, 'min_samples_leaf': 52, 'l2_regularization': 1.410946825241211}. Best is trial 31 with value: 0.7121729113803352.\n",
      "[I 2025-07-07 02:22:11,844] Trial 48 finished with value: 0.7115716568728272 and parameters: {'learning_rate': 0.24123781385985382, 'max_leaf_nodes': 175, 'max_depth': 5, 'min_samples_leaf': 53, 'l2_regularization': 1.4314779915757925}. Best is trial 31 with value: 0.7121729113803352.\n",
      "[I 2025-07-07 02:22:16,424] Trial 49 finished with value: 0.7107562148709861 and parameters: {'learning_rate': 0.10862398594151448, 'max_leaf_nodes': 179, 'max_depth': 4, 'min_samples_leaf': 31, 'l2_regularization': 1.4071363913885404}. Best is trial 31 with value: 0.7121729113803352.\n",
      "[I 2025-07-07 02:22:22,968] Trial 50 finished with value: 0.7123837339257845 and parameters: {'learning_rate': 0.07774718826865384, 'max_leaf_nodes': 208, 'max_depth': 4, 'min_samples_leaf': 45, 'l2_regularization': 1.2963868156198943}. Best is trial 50 with value: 0.7123837339257845.\n",
      "[I 2025-07-07 02:22:29,088] Trial 51 finished with value: 0.7118651448915707 and parameters: {'learning_rate': 0.07984560760264428, 'max_leaf_nodes': 208, 'max_depth': 4, 'min_samples_leaf': 46, 'l2_regularization': 1.289125410731554}. Best is trial 50 with value: 0.7123837339257845.\n",
      "[I 2025-07-07 02:22:37,407] Trial 52 finished with value: 0.7109659586344159 and parameters: {'learning_rate': 0.048969221594572114, 'max_leaf_nodes': 230, 'max_depth': 6, 'min_samples_leaf': 60, 'l2_regularization': 1.5863487387199922}. Best is trial 50 with value: 0.7123837339257845.\n",
      "[I 2025-07-07 02:22:40,406] Trial 53 finished with value: 0.7106398614295232 and parameters: {'learning_rate': 0.1665676161932513, 'max_leaf_nodes': 166, 'max_depth': 5, 'min_samples_leaf': 39, 'l2_regularization': 1.2612299538174667}. Best is trial 50 with value: 0.7123837339257845.\n",
      "[I 2025-07-07 02:22:44,638] Trial 54 finished with value: 0.7119390642994553 and parameters: {'learning_rate': 0.1143574019572935, 'max_leaf_nodes': 206, 'max_depth': 4, 'min_samples_leaf': 21, 'l2_regularization': 1.0815891805431368}. Best is trial 50 with value: 0.7123837339257845.\n",
      "[I 2025-07-07 02:22:51,508] Trial 55 finished with value: 0.7111051927648578 and parameters: {'learning_rate': 0.0523574442040495, 'max_leaf_nodes': 208, 'max_depth': 4, 'min_samples_leaf': 22, 'l2_regularization': 1.0849256183276195}. Best is trial 50 with value: 0.7123837339257845.\n",
      "[I 2025-07-07 02:22:58,999] Trial 56 finished with value: 0.7085252353732835 and parameters: {'learning_rate': 0.03488610509746969, 'max_leaf_nodes': 221, 'max_depth': 4, 'min_samples_leaf': 18, 'l2_regularization': 0.6884619480562948}. Best is trial 50 with value: 0.7123837339257845.\n",
      "[I 2025-07-07 02:23:04,687] Trial 57 finished with value: 0.7132971792873121 and parameters: {'learning_rate': 0.119922394894608, 'max_leaf_nodes': 191, 'max_depth': 3, 'min_samples_leaf': 50, 'l2_regularization': 0.9387215458247753}. Best is trial 57 with value: 0.7132971792873121.\n",
      "[I 2025-07-07 02:23:11,045] Trial 58 finished with value: 0.7113158555316026 and parameters: {'learning_rate': 0.08188090671574756, 'max_leaf_nodes': 194, 'max_depth': 3, 'min_samples_leaf': 52, 'l2_regularization': 0.4283983422772315}. Best is trial 57 with value: 0.7132971792873121.\n",
      "[I 2025-07-07 02:23:16,645] Trial 59 finished with value: 0.7113093256134538 and parameters: {'learning_rate': 0.14363114358724374, 'max_leaf_nodes': 191, 'max_depth': 2, 'min_samples_leaf': 71, 'l2_regularization': 0.9473872594831008}. Best is trial 57 with value: 0.7132971792873121.\n",
      "[I 2025-07-07 02:23:20,209] Trial 60 finished with value: 0.7103530860259917 and parameters: {'learning_rate': 0.19602754547244888, 'max_leaf_nodes': 238, 'max_depth': 3, 'min_samples_leaf': 35, 'l2_regularization': 1.0027007155934942}. Best is trial 57 with value: 0.7132971792873121.\n",
      "[I 2025-07-07 02:23:25,348] Trial 61 finished with value: 0.7121358612003326 and parameters: {'learning_rate': 0.114982146374443, 'max_leaf_nodes': 208, 'max_depth': 4, 'min_samples_leaf': 41, 'l2_regularization': 0.8997087314621254}. Best is trial 57 with value: 0.7132971792873121.\n",
      "[I 2025-07-07 02:23:27,595] Trial 62 finished with value: 0.7096396940238963 and parameters: {'learning_rate': 0.2617889599886665, 'max_leaf_nodes': 174, 'max_depth': 5, 'min_samples_leaf': 62, 'l2_regularization': 0.6295931767029915}. Best is trial 57 with value: 0.7132971792873121.\n",
      "[I 2025-07-07 02:23:33,103] Trial 63 finished with value: 0.7125717162180111 and parameters: {'learning_rate': 0.10098538066549388, 'max_leaf_nodes': 187, 'max_depth': 4, 'min_samples_leaf': 51, 'l2_regularization': 0.8253756552416144}. Best is trial 57 with value: 0.7132971792873121.\n",
      "[I 2025-07-07 02:23:39,224] Trial 64 finished with value: 0.7101824694515122 and parameters: {'learning_rate': 0.07460213892549426, 'max_leaf_nodes': 224, 'max_depth': 3, 'min_samples_leaf': 41, 'l2_regularization': 0.8226137032868225}. Best is trial 57 with value: 0.7132971792873121.\n",
      "[I 2025-07-07 02:23:44,980] Trial 65 finished with value: 0.7081519782808527 and parameters: {'learning_rate': 0.10558128017519638, 'max_leaf_nodes': 188, 'max_depth': 2, 'min_samples_leaf': 156, 'l2_regularization': 0.8890378585861081}. Best is trial 57 with value: 0.7132971792873121.\n",
      "[I 2025-07-07 02:23:50,215] Trial 66 finished with value: 0.7121633735999222 and parameters: {'learning_rate': 0.18278458146007964, 'max_leaf_nodes': 213, 'max_depth': 3, 'min_samples_leaf': 200, 'l2_regularization': 0.5111596149803022}. Best is trial 57 with value: 0.7132971792873121.\n",
      "[I 2025-07-07 02:23:56,295] Trial 67 finished with value: 0.7114716239171469 and parameters: {'learning_rate': 0.09447958324392015, 'max_leaf_nodes': 212, 'max_depth': 4, 'min_samples_leaf': 187, 'l2_regularization': 0.14304121462657837}. Best is trial 57 with value: 0.7132971792873121.\n",
      "[I 2025-07-07 02:24:02,682] Trial 68 finished with value: 0.7069620791852061 and parameters: {'learning_rate': 0.059128540178452975, 'max_leaf_nodes': 205, 'max_depth': 3, 'min_samples_leaf': 187, 'l2_regularization': 0.7431014638750087}. Best is trial 57 with value: 0.7132971792873121.\n",
      "[I 2025-07-07 02:24:11,954] Trial 69 finished with value: 0.6783059017956283 and parameters: {'learning_rate': 0.006977938908023246, 'max_leaf_nodes': 199, 'max_depth': 5, 'min_samples_leaf': 185, 'l2_regularization': 0.4846349284447796}. Best is trial 57 with value: 0.7132971792873121.\n",
      "[I 2025-07-07 02:24:15,847] Trial 70 finished with value: 0.7111965698894938 and parameters: {'learning_rate': 0.17861069888684974, 'max_leaf_nodes': 238, 'max_depth': 4, 'min_samples_leaf': 176, 'l2_regularization': 0.2833483092975928}. Best is trial 57 with value: 0.7132971792873121.\n",
      "[I 2025-07-07 02:24:21,384] Trial 71 finished with value: 0.7100697267008076 and parameters: {'learning_rate': 0.14501961809340005, 'max_leaf_nodes': 200, 'max_depth': 3, 'min_samples_leaf': 197, 'l2_regularization': 0.7492877326597934}. Best is trial 57 with value: 0.7132971792873121.\n",
      "[I 2025-07-07 02:24:26,207] Trial 72 finished with value: 0.7121493005643128 and parameters: {'learning_rate': 0.24121640947666, 'max_leaf_nodes': 219, 'max_depth': 2, 'min_samples_leaf': 164, 'l2_regularization': 0.5166025894494526}. Best is trial 57 with value: 0.7132971792873121.\n",
      "[I 2025-07-07 02:24:31,457] Trial 73 finished with value: 0.711073057194078 and parameters: {'learning_rate': 0.20085116986563656, 'max_leaf_nodes': 224, 'max_depth': 2, 'min_samples_leaf': 172, 'l2_regularization': 0.5120058554825249}. Best is trial 57 with value: 0.7132971792873121.\n",
      "[I 2025-07-07 02:24:37,688] Trial 74 finished with value: 0.710382916591528 and parameters: {'learning_rate': 0.09853169103470971, 'max_leaf_nodes': 250, 'max_depth': 3, 'min_samples_leaf': 167, 'l2_regularization': 0.30644135626293145}. Best is trial 57 with value: 0.7132971792873121.\n",
      "[I 2025-07-07 02:24:40,937] Trial 75 finished with value: 0.7120382120678007 and parameters: {'learning_rate': 0.26213273302234363, 'max_leaf_nodes': 213, 'max_depth': 3, 'min_samples_leaf': 157, 'l2_regularization': 0.5830152018559205}. Best is trial 57 with value: 0.7132971792873121.\n",
      "[I 2025-07-07 02:24:46,623] Trial 76 finished with value: 0.7123197277350374 and parameters: {'learning_rate': 0.17276032271398445, 'max_leaf_nodes': 231, 'max_depth': 2, 'min_samples_leaf': 151, 'l2_regularization': 0.3640006147161676}. Best is trial 57 with value: 0.7132971792873121.\n",
      "[I 2025-07-07 02:24:52,259] Trial 77 finished with value: 0.6978529493448742 and parameters: {'learning_rate': 0.04134493998013842, 'max_leaf_nodes': 238, 'max_depth': 2, 'min_samples_leaf': 147, 'l2_regularization': 0.34642911300481977}. Best is trial 57 with value: 0.7132971792873121.\n",
      "[I 2025-07-07 02:24:57,776] Trial 78 finished with value: 0.7122156196461639 and parameters: {'learning_rate': 0.16089479415711008, 'max_leaf_nodes': 232, 'max_depth': 2, 'min_samples_leaf': 128, 'l2_regularization': 0.08977142490569084}. Best is trial 57 with value: 0.7132971792873121.\n",
      "[I 2025-07-07 02:25:03,109] Trial 79 finished with value: 0.7115078683977922 and parameters: {'learning_rate': 0.15335393835403163, 'max_leaf_nodes': 231, 'max_depth': 2, 'min_samples_leaf': 143, 'l2_regularization': 0.1776975252963735}. Best is trial 57 with value: 0.7132971792873121.\n",
      "[I 2025-07-07 02:25:08,939] Trial 80 finished with value: 0.6848079902492061 and parameters: {'learning_rate': 0.02007635353017696, 'max_leaf_nodes': 247, 'max_depth': 2, 'min_samples_leaf': 130, 'l2_regularization': 0.0020884138627954574}. Best is trial 57 with value: 0.7132971792873121.\n",
      "[I 2025-07-07 02:25:14,296] Trial 81 finished with value: 0.710040388871288 and parameters: {'learning_rate': 0.12033429592726126, 'max_leaf_nodes': 219, 'max_depth': 2, 'min_samples_leaf': 114, 'l2_regularization': 0.09600844583881944}. Best is trial 57 with value: 0.7132971792873121.\n",
      "[I 2025-07-07 02:25:19,448] Trial 82 finished with value: 0.7113714399216556 and parameters: {'learning_rate': 0.17492374637644972, 'max_leaf_nodes': 254, 'max_depth': 2, 'min_samples_leaf': 136, 'l2_regularization': 0.39506053532129903}. Best is trial 57 with value: 0.7132971792873121.\n",
      "[I 2025-07-07 02:25:24,628] Trial 83 finished with value: 0.7119289518246156 and parameters: {'learning_rate': 0.13965996530823563, 'max_leaf_nodes': 223, 'max_depth': 3, 'min_samples_leaf': 130, 'l2_regularization': 0.24434541777960112}. Best is trial 57 with value: 0.7132971792873121.\n",
      "[I 2025-07-07 02:25:29,692] Trial 84 finished with value: 0.7127844329965886 and parameters: {'learning_rate': 0.22407829324253556, 'max_leaf_nodes': 236, 'max_depth': 2, 'min_samples_leaf': 182, 'l2_regularization': 0.6940228384516598}. Best is trial 57 with value: 0.7132971792873121.\n",
      "[I 2025-07-07 02:25:34,611] Trial 85 finished with value: 0.7124526285530841 and parameters: {'learning_rate': 0.252900904670378, 'max_leaf_nodes': 243, 'max_depth': 2, 'min_samples_leaf': 200, 'l2_regularization': 0.6851579081317516}. Best is trial 57 with value: 0.7132971792873121.\n",
      "[I 2025-07-07 02:25:39,728] Trial 86 finished with value: 0.7110204664065644 and parameters: {'learning_rate': 0.21814288680685853, 'max_leaf_nodes': 244, 'max_depth': 2, 'min_samples_leaf': 192, 'l2_regularization': 0.687807454972412}. Best is trial 57 with value: 0.7132971792873121.\n",
      "[I 2025-07-07 02:25:44,448] Trial 87 finished with value: 0.7114701939670507 and parameters: {'learning_rate': 0.2620264055522749, 'max_leaf_nodes': 234, 'max_depth': 2, 'min_samples_leaf': 183, 'l2_regularization': 0.5943170335170768}. Best is trial 57 with value: 0.7132971792873121.\n",
      "[I 2025-07-07 02:25:49,376] Trial 88 finished with value: 0.7118330146582442 and parameters: {'learning_rate': 0.16631236125496612, 'max_leaf_nodes': 243, 'max_depth': 3, 'min_samples_leaf': 48, 'l2_regularization': 0.6742149408869493}. Best is trial 57 with value: 0.7132971792873121.\n",
      "[I 2025-07-07 02:25:54,944] Trial 89 finished with value: 0.7058486871348774 and parameters: {'learning_rate': 0.08946943823819199, 'max_leaf_nodes': 228, 'max_depth': 2, 'min_samples_leaf': 179, 'l2_regularization': 0.7952918718169159}. Best is trial 57 with value: 0.7132971792873121.\n",
      "[I 2025-07-07 02:25:59,395] Trial 90 finished with value: 0.7114786607139777 and parameters: {'learning_rate': 0.19527831997516332, 'max_leaf_nodes': 237, 'max_depth': 3, 'min_samples_leaf': 198, 'l2_regularization': 0.7456982460892901}. Best is trial 57 with value: 0.7132971792873121.\n",
      "[I 2025-07-07 02:26:04,320] Trial 91 finished with value: 0.7121857888931546 and parameters: {'learning_rate': 0.24077951900426603, 'max_leaf_nodes': 256, 'max_depth': 2, 'min_samples_leaf': 167, 'l2_regularization': 0.5148509008507857}. Best is trial 57 with value: 0.7132971792873121.\n",
      "[I 2025-07-07 02:26:09,505] Trial 92 finished with value: 0.7115521975138378 and parameters: {'learning_rate': 0.22033942135853607, 'max_leaf_nodes': 256, 'max_depth': 2, 'min_samples_leaf': 181, 'l2_regularization': 0.46278223702260207}. Best is trial 57 with value: 0.7132971792873121.\n",
      "[I 2025-07-07 02:26:13,793] Trial 93 finished with value: 0.7122442852933857 and parameters: {'learning_rate': 0.2901830911944058, 'max_leaf_nodes': 243, 'max_depth': 2, 'min_samples_leaf': 192, 'l2_regularization': 0.5487066216043015}. Best is trial 57 with value: 0.7132971792873121.\n",
      "[I 2025-07-07 02:26:18,366] Trial 94 finished with value: 0.7121629838785801 and parameters: {'learning_rate': 0.29532447893480657, 'max_leaf_nodes': 248, 'max_depth': 2, 'min_samples_leaf': 191, 'l2_regularization': 0.5567321270233695}. Best is trial 57 with value: 0.7132971792873121.\n",
      "[I 2025-07-07 02:26:22,868] Trial 95 finished with value: 0.711544099606858 and parameters: {'learning_rate': 0.25075190088822746, 'max_leaf_nodes': 243, 'max_depth': 2, 'min_samples_leaf': 159, 'l2_regularization': 0.6150222044169338}. Best is trial 57 with value: 0.7132971792873121.\n",
      "[I 2025-07-07 02:26:28,530] Trial 96 finished with value: 0.710118266072973 and parameters: {'learning_rate': 0.13007444901491388, 'max_leaf_nodes': 234, 'max_depth': 2, 'min_samples_leaf': 168, 'l2_regularization': 0.37901013488356117}. Best is trial 57 with value: 0.7132971792873121.\n",
      "[I 2025-07-07 02:26:34,138] Trial 97 finished with value: 0.7108830713976915 and parameters: {'learning_rate': 0.15861959077231094, 'max_leaf_nodes': 253, 'max_depth': 2, 'min_samples_leaf': 194, 'l2_regularization': 0.8511353747337509}. Best is trial 57 with value: 0.7132971792873121.\n",
      "[I 2025-07-07 02:26:39,145] Trial 98 finished with value: 0.711180729215587 and parameters: {'learning_rate': 0.216605070738157, 'max_leaf_nodes': 229, 'max_depth': 2, 'min_samples_leaf': 63, 'l2_regularization': 0.22510863331508946}. Best is trial 57 with value: 0.7132971792873121.\n",
      "[I 2025-07-07 02:26:43,217] Trial 99 finished with value: 0.7112227021289161 and parameters: {'learning_rate': 0.2934750943874719, 'max_leaf_nodes': 249, 'max_depth': 2, 'min_samples_leaf': 189, 'l2_regularization': 0.6563150996994254}. Best is trial 57 with value: 0.7132971792873121.\n"
     ]
    }
   ],
   "source": [
    "study = optuna.create_study(direction=\"maximize\")\n",
    "study.optimize(objective, n_trials=100)  # adjust n_trials if you want more or less\n"
   ]
  },
  {
   "cell_type": "code",
   "execution_count": null,
   "metadata": {},
   "outputs": [
    {
     "data": {
      "text/html": [
       "<div>\n",
       "<style scoped>\n",
       "    .dataframe tbody tr th:only-of-type {\n",
       "        vertical-align: middle;\n",
       "    }\n",
       "\n",
       "    .dataframe tbody tr th {\n",
       "        vertical-align: top;\n",
       "    }\n",
       "\n",
       "    .dataframe thead th {\n",
       "        text-align: right;\n",
       "    }\n",
       "</style>\n",
       "<table border=\"1\" class=\"dataframe\">\n",
       "  <thead>\n",
       "    <tr style=\"text-align: right;\">\n",
       "      <th></th>\n",
       "      <th>number</th>\n",
       "      <th>value</th>\n",
       "      <th>datetime_start</th>\n",
       "      <th>datetime_complete</th>\n",
       "      <th>duration</th>\n",
       "      <th>params_l2_regularization</th>\n",
       "      <th>params_learning_rate</th>\n",
       "      <th>params_max_depth</th>\n",
       "      <th>params_max_leaf_nodes</th>\n",
       "      <th>params_min_samples_leaf</th>\n",
       "      <th>state</th>\n",
       "    </tr>\n",
       "  </thead>\n",
       "  <tbody>\n",
       "    <tr>\n",
       "      <th>74</th>\n",
       "      <td>74</td>\n",
       "      <td>0.713730</td>\n",
       "      <td>2025-07-06 21:21:20.579047</td>\n",
       "      <td>2025-07-06 21:21:25.163007</td>\n",
       "      <td>0 days 00:00:04.583960</td>\n",
       "      <td>0.713263</td>\n",
       "      <td>0.214113</td>\n",
       "      <td>2</td>\n",
       "      <td>256</td>\n",
       "      <td>15</td>\n",
       "      <td>COMPLETE</td>\n",
       "    </tr>\n",
       "    <tr>\n",
       "      <th>67</th>\n",
       "      <td>67</td>\n",
       "      <td>0.713340</td>\n",
       "      <td>2025-07-06 21:20:49.667336</td>\n",
       "      <td>2025-07-06 21:20:54.258702</td>\n",
       "      <td>0 days 00:00:04.591366</td>\n",
       "      <td>0.499326</td>\n",
       "      <td>0.245730</td>\n",
       "      <td>2</td>\n",
       "      <td>247</td>\n",
       "      <td>13</td>\n",
       "      <td>COMPLETE</td>\n",
       "    </tr>\n",
       "    <tr>\n",
       "      <th>66</th>\n",
       "      <td>66</td>\n",
       "      <td>0.713218</td>\n",
       "      <td>2025-07-06 21:20:44.015754</td>\n",
       "      <td>2025-07-06 21:20:49.666673</td>\n",
       "      <td>0 days 00:00:05.650919</td>\n",
       "      <td>0.502673</td>\n",
       "      <td>0.138422</td>\n",
       "      <td>2</td>\n",
       "      <td>254</td>\n",
       "      <td>13</td>\n",
       "      <td>COMPLETE</td>\n",
       "    </tr>\n",
       "    <tr>\n",
       "      <th>89</th>\n",
       "      <td>89</td>\n",
       "      <td>0.713075</td>\n",
       "      <td>2025-07-06 21:22:28.417070</td>\n",
       "      <td>2025-07-06 21:22:32.528754</td>\n",
       "      <td>0 days 00:00:04.111684</td>\n",
       "      <td>0.610191</td>\n",
       "      <td>0.253246</td>\n",
       "      <td>2</td>\n",
       "      <td>256</td>\n",
       "      <td>16</td>\n",
       "      <td>COMPLETE</td>\n",
       "    </tr>\n",
       "    <tr>\n",
       "      <th>72</th>\n",
       "      <td>72</td>\n",
       "      <td>0.713051</td>\n",
       "      <td>2025-07-06 21:21:11.156339</td>\n",
       "      <td>2025-07-06 21:21:15.744082</td>\n",
       "      <td>0 days 00:00:04.587743</td>\n",
       "      <td>0.393225</td>\n",
       "      <td>0.205165</td>\n",
       "      <td>2</td>\n",
       "      <td>230</td>\n",
       "      <td>28</td>\n",
       "      <td>COMPLETE</td>\n",
       "    </tr>\n",
       "  </tbody>\n",
       "</table>\n",
       "</div>"
      ],
      "text/plain": [
       "    number     value             datetime_start          datetime_complete  \\\n",
       "74      74  0.713730 2025-07-06 21:21:20.579047 2025-07-06 21:21:25.163007   \n",
       "67      67  0.713340 2025-07-06 21:20:49.667336 2025-07-06 21:20:54.258702   \n",
       "66      66  0.713218 2025-07-06 21:20:44.015754 2025-07-06 21:20:49.666673   \n",
       "89      89  0.713075 2025-07-06 21:22:28.417070 2025-07-06 21:22:32.528754   \n",
       "72      72  0.713051 2025-07-06 21:21:11.156339 2025-07-06 21:21:15.744082   \n",
       "\n",
       "                 duration  params_l2_regularization  params_learning_rate  \\\n",
       "74 0 days 00:00:04.583960                  0.713263              0.214113   \n",
       "67 0 days 00:00:04.591366                  0.499326              0.245730   \n",
       "66 0 days 00:00:05.650919                  0.502673              0.138422   \n",
       "89 0 days 00:00:04.111684                  0.610191              0.253246   \n",
       "72 0 days 00:00:04.587743                  0.393225              0.205165   \n",
       "\n",
       "    params_max_depth  params_max_leaf_nodes  params_min_samples_leaf     state  \n",
       "74                 2                    256                       15  COMPLETE  \n",
       "67                 2                    247                       13  COMPLETE  \n",
       "66                 2                    254                       13  COMPLETE  \n",
       "89                 2                    256                       16  COMPLETE  \n",
       "72                 2                    230                       28  COMPLETE  "
      ]
     },
     "metadata": {},
     "output_type": "display_data"
    }
   ],
   "source": [
    "df_optuna = optuna.visualization.plot_param_importances(study)  # optional\n",
    "df_trials = pd.DataFrame(study.trials_dataframe())\n",
    "top_5 = df_trials.sort_values(\"value\", ascending=False).head(5)\n",
    "display(top_5)\n"
   ]
  },
  {
   "cell_type": "markdown",
   "metadata": {},
   "source": [
    "### Problem 3 Graded Answer\n",
    "\n",
    "Set `a3` to the mean F1 score of the best model found. "
   ]
  },
  {
   "cell_type": "code",
   "execution_count": 23,
   "metadata": {},
   "outputs": [
    {
     "name": "stdout",
     "output_type": "stream",
     "text": [
      "a3 = 0.7133\n"
     ]
    }
   ],
   "source": [
    " # Your answer here\n",
    "\n",
    "a3 = study.best_value\n",
    "print(f'a3 = {a3:.4f}')\n",
    "                  # replace 0 with your answer, may copy from the displayed results"
   ]
  },
  {
   "cell_type": "code",
   "execution_count": null,
   "metadata": {},
   "outputs": [
    {
     "name": "stdout",
     "output_type": "stream",
     "text": [
      "a3 = 0.7137\n"
     ]
    }
   ],
   "source": [
    "# DO NOT change this cell in any way\n",
    "\n",
    "print(f'a3 = {a3:.4f}')"
   ]
  },
  {
   "cell_type": "markdown",
   "metadata": {},
   "source": [
    "## Problem 4: Final Model Evaluation on Test Set\n",
    "\n",
    "In this problem, you will take the best hyperparameter configuration you found in your earlier experiments (Randomized Search or Optuna) and fully evaluate the resulting model on the test set.\n",
    "\n",
    "**Background:**\n",
    "When performing hyperparameter tuning, we typically optimize for a single metric (e.g., F1). However, before deployment, it is essential to check **all relevant metrics** on the final test set to understand the model’s behavior in a balanced way.\n",
    "\n",
    "**Instructions:**\n",
    "\n",
    "1. Take the best hyperparameters you found in Problems 2 or 3 and apply them to your `pipelined_model`.\n",
    "2. Re-train this final tuned model on the **entire training set** (not just the folds).\n",
    "3. Evaluate the final model on the heldout **test set**, reporting the following metrics:\n",
    "\n",
    "   * Precision\n",
    "   * Recall\n",
    "   * F1 score\n",
    "   * Balanced accuracy\n",
    "4. Use `classification_report` **on the test set** to print precision, recall, and F1 score, and use `balanced_accuracy_score` separately to calculate and print balanced accuracy.\n",
    "5. Answer the graded questions.\n",
    "\n",
    "**Note:** We evaluate the metrics on the test set because it was never seen during training or hyperparameter tuning. This gives us an unbiased estimate of how the model will perform on truly unseen data. Evaluating on the training set would be misleading, because the model has already learned from that data and could appear artificially good.\n"
   ]
  },
  {
   "cell_type": "code",
   "execution_count": null,
   "metadata": {},
   "outputs": [
    {
     "name": "stdout",
     "output_type": "stream",
     "text": [
      "\n",
      "Classification Report:\n",
      "              precision    recall  f1-score   support\n",
      "\n",
      "           0     0.9509    0.8210    0.8812      7431\n",
      "           1     0.6033    0.8653    0.7109      2338\n",
      "\n",
      "    accuracy                         0.8316      9769\n",
      "   macro avg     0.7771    0.8431    0.7961      9769\n",
      "weighted avg     0.8677    0.8316    0.8405      9769\n",
      "\n",
      "Balanced Accuracy: 0.8431\n"
     ]
    }
   ],
   "source": [
    "# Your code here\n",
    "\n",
    "\n",
    "final_model = Pipeline([\n",
    "    (\"prep\", preprocess),\n",
    "    (\"gb\", HistGradientBoostingClassifier(\n",
    "        learning_rate=0.07,\n",
    "        max_leaf_nodes=40,\n",
    "        max_depth=7,\n",
    "        min_samples_leaf=30,\n",
    "        l2_regularization=0.4,\n",
    "        class_weight=\"balanced\",\n",
    "        early_stopping=True,\n",
    "        max_iter=500,\n",
    "        n_iter_no_change=20,\n",
    "        validation_fraction=0.2,\n",
    "        random_state=42\n",
    "    ))\n",
    "])\n",
    "\n",
    "\n",
    "# Train on full training data\n",
    "final_model.fit(X_train, y_train)\n",
    "\n",
    "# Predict on test set\n",
    "y_pred = final_model.predict(X_test)\n",
    "\n",
    "# Metrics\n",
    "print(\"\\nClassification Report:\")\n",
    "print(classification_report(y_test, y_pred, digits=4))\n",
    "\n",
    "bal_acc = balanced_accuracy_score(y_test, y_pred)\n",
    "print(\"Balanced Accuracy:\", round(bal_acc, 4))\n",
    "\n"
   ]
  },
  {
   "cell_type": "markdown",
   "metadata": {},
   "source": [
    "### Problem 4 Graded Questions\n",
    "\n",
    "- Set `a4a` to the balanced accuracy score of the best model.\n",
    "- Set `a4b` to the macro average precision of this model.\n",
    "- Set `a4c` to the macro average recall score of the this model.\n",
    "\n",
    "**Note:** Macro average takes the mean of each class’s precision/recall without considering how many samples each class has, which is appropriate for a balanced evaluation."
   ]
  },
  {
   "cell_type": "code",
   "execution_count": null,
   "metadata": {},
   "outputs": [],
   "source": [
    " # Your answer here\n",
    "\n",
    "from sklearn.metrics import classification_report, balanced_accuracy_score\n",
    "\n",
    "y_pred = final_model.predict(X_test)\n",
    "\n",
    "# Get classification report\n",
    "report = classification_report(y_test, y_pred, output_dict=True)\n",
    "bal_acc = balanced_accuracy_score(y_test, y_pred)\n",
    "\n",
    "# Extract values\n",
    "a4a = bal_acc\n",
    "\n",
    "\n"
   ]
  },
  {
   "cell_type": "code",
   "execution_count": null,
   "metadata": {},
   "outputs": [
    {
     "name": "stdout",
     "output_type": "stream",
     "text": [
      "a4a = 0.8431\n"
     ]
    }
   ],
   "source": [
    "# DO NOT change this cell in any way\n",
    "\n",
    "print(f'a4a = {a4a:.4f}')"
   ]
  },
  {
   "cell_type": "code",
   "execution_count": null,
   "metadata": {},
   "outputs": [],
   "source": [
    " # Your answer here\n",
    "\n",
    "a4b = report[\"macro avg\"][\"precision\"]     # replace 0 with your answer, may copy from the displayed results"
   ]
  },
  {
   "cell_type": "code",
   "execution_count": null,
   "metadata": {},
   "outputs": [
    {
     "name": "stdout",
     "output_type": "stream",
     "text": [
      "a4b = 0.7771\n"
     ]
    }
   ],
   "source": [
    "# DO NOT change this cell in any way\n",
    "\n",
    "print(f'a4b = {a4b:.4f}')"
   ]
  },
  {
   "cell_type": "code",
   "execution_count": null,
   "metadata": {},
   "outputs": [],
   "source": [
    " # Your answer here\n",
    "\n",
    "a4c = report[\"macro avg\"][\"recall\"]                    # replace 0 with your answer, may copy from the displayed results"
   ]
  },
  {
   "cell_type": "code",
   "execution_count": null,
   "metadata": {},
   "outputs": [
    {
     "name": "stdout",
     "output_type": "stream",
     "text": [
      "a4c = 0.8431\n"
     ]
    }
   ],
   "source": [
    "# DO NOT change this cell in any way\n",
    "\n",
    "print(f'a4c = {a4c:.4f}')"
   ]
  },
  {
   "cell_type": "markdown",
   "metadata": {},
   "source": [
    "## Problem 5: Understanding Precision, Recall, F1, and Balanced Accuracy\n",
    "\n",
    "**Tutorial**\n",
    "\n",
    "In binary classification, you will often evaluate these key metrics:\n",
    "\n",
    "* **Precision**: *Of all the positive predictions the model made, how many were actually correct?*\n",
    "\n",
    "  * High precision = few false positives\n",
    "  * Low precision = many false positives\n",
    "\n",
    "* **Recall**: *Of all the actual positive cases, how many did the model correctly identify?*\n",
    "\n",
    "  * High recall = few false negatives\n",
    "  * Low recall = many false negatives\n",
    "\n",
    "* **F1 score**: The harmonic mean of precision and recall, which balances them in a single measure.\n",
    "\n",
    "  * F1 is **highest** when precision and recall are both high and similar in value.\n",
    "  * If precision and recall are unbalanced, F1 will drop to reflect that imbalance.\n",
    "\n",
    "* **Balanced accuracy**: The average of recall across both classes (positive and negative).\n",
    "\n",
    "  * It ensures the classifier is performing reasonably well on *both* groups, correcting for class imbalance.\n",
    "  * Balanced accuracy is especially important if the classes are very unequal in size.\n",
    "\n",
    "**Typical trade-offs to remember:**\n",
    "\n",
    "* **Higher recall, lower precision**: the model finds most true positives but also mislabels some negatives as positives\n",
    "* **Higher precision, lower recall**: the model is strict about positive predictions, but misses some true positives\n",
    "* **Balanced precision and recall (good F1)**: a practical compromise\n",
    "* **Balanced accuracy**: checks fairness across both classes"
   ]
  },
  {
   "cell_type": "markdown",
   "metadata": {},
   "source": [
    "###  Problem 5 Graded Question (multiple choice)\n",
    "\n",
    "A bank uses your model to identify customers earning over $50K for a premium product invitation. Based on your final test set evaluation, including macro-averaged precision and recall, which of the following best describes what might happen?\n",
    "\n",
    "(1) The bank will miss some eligible high-income customers, but will avoid marketing mistakes by sending invitations only to those it is  confident about.\n",
    "\n",
    "(2) The bank will successfully reach most high-income customers, but will also waste resources sending invitations to some low-income customers.\n",
    "\n",
    "(3) The bank will perfectly identify all high-income and low-income customers, resulting in no wasted invitations and no missed opportunities.\n"
   ]
  },
  {
   "cell_type": "code",
   "execution_count": null,
   "metadata": {},
   "outputs": [],
   "source": [
    " # Your answer here\n",
    "\n",
    "a5 = 1                     # replace 0 with one of 1, 2, or 3"
   ]
  },
  {
   "cell_type": "code",
   "execution_count": null,
   "metadata": {},
   "outputs": [
    {
     "name": "stdout",
     "output_type": "stream",
     "text": [
      "a5 = 0\n"
     ]
    }
   ],
   "source": [
    "# DO NOT change this cell in any way\n",
    "\n",
    "print(f'a5 = {a5}')"
   ]
  },
  {
   "cell_type": "markdown",
   "metadata": {},
   "source": [
    "### Appendix One: Feature Engineering\n",
    "\n",
    "Here are some practical feature-engineering tweaks worth considering (beyond simply ordinal-encoding the categoricals)\n",
    "\n",
    "| Feature(s)                                                           | Why the tweak can help                                                                                                                                                     | How to do it (quick version)                                                                                                                                                    | Keep / drop?      |\n",
    "| -------------------------------------------------------------------- | -------------------------------------------------------------------------------------------------------------------------------------------------------------------------- | ------------------------------------------------------------------------------------------------------------------------------------------------------------------------------- | ----------------- |\n",
    "| **`fnlwgt`**                                                         | Survey sampling weight, not a predictor. Leaving it in often lets the model “cheat.”                                                                                       | `df = df.drop(columns=[\"fnlwgt\"])`                                                                                                                                              | **Drop**          |\n",
    "| **`education` *vs.* `education-num`**                                | They encode the **same** information twice (categorical label and its ordinal rank). Keeping both is redundant and can cause leakage of a perfectly predictive feature.    | Usually keep **only one**. For tree models `education-num` is simplest: `df = df.drop(columns=[\"education\"])`                                                                   | **Drop one**      |\n",
    "| **`capital-gain`, `capital-loss`**                                   | Highly skewed; most values are zero with a long upper tail. The sign (gain vs. loss) matters, but treating them separately wastes a feature slot.                          | 1) Combine: `df[\"capital_net\"] = df[\"capital-gain\"] - df[\"capital-loss\"]`; 2) Log-transform to reduce skew: `df[\"capital_net_log\"] = np.log1p(df[\"capital_net\"].clip(lower=0))` | Replace originals |\n",
    "| **`age`, `hours-per-week`**                                          | Continuous but with natural plateaus—trees handle splits fine, yet log or square-root scaling can soften extreme values; bucketing makes partial-dependence plots clearer. | Simple bucket: `df[\"age_bin\"] = pd.cut(df[\"age\"], bins=[16,25,35,45,55,65,90])` (optional)                                                                                      | Optional          |\n",
    "| **Missing categories** (`workclass`, `occupation`, `native-country`) | HGB handles `-1`/`-2` codes fine, but you may want *explicit* “Missing” bucket for interpretability.                                                                       | Use `encoded_missing_value=-2` during encoding.                                                                                                            | Keep as is        |\n",
    "| **Rare categories in `native-country`**                              | Hundreds of low-frequency countries dilute signal; grouping boosts stability.                                                                                              | Map infrequent categories to “Other”:                                                                                                                                           |                   |\n",
    "\n",
    "\n",
    "#### Minimum set of tweaks (good baseline, low effort)\n",
    "\n",
    "1. **Drop `fnlwgt`.**  \n",
    "2. **Keep `education-num`, drop `education`.**  \n",
    "3. **Combine `capital-gain` and `capital-loss` into `capital_net`** (optionally add a log-scaled version).  \n",
    "4. Leave other numeric/categorical features as is; your histogram-GBDT will cope.\n",
    "\n",
    "\n"
   ]
  }
 ],
 "metadata": {
  "kernelspec": {
   "display_name": "Python 3",
   "language": "python",
   "name": "python3"
  },
  "language_info": {
   "codemirror_mode": {
    "name": "ipython",
    "version": 3
   },
   "file_extension": ".py",
   "mimetype": "text/x-python",
   "name": "python",
   "nbconvert_exporter": "python",
   "pygments_lexer": "ipython3",
   "version": "3.12.1"
  }
 },
 "nbformat": 4,
 "nbformat_minor": 4
}
